{
 "cells": [
  {
   "cell_type": "code",
   "execution_count": 1,
   "metadata": {
    "direction": "ltr"
   },
   "outputs": [],
   "source": [
    "%config Completer.use_jedi = False"
   ]
  },
  {
   "cell_type": "code",
   "execution_count": 2,
   "metadata": {},
   "outputs": [],
   "source": [
    "import numpy as np\n",
    "import pandas as pd\n",
    "from os.path import join\n",
    "from glob import glob\n",
    "from TorchEASE.src.main.EASE import TorchEASE\n",
    "import time\n",
    "import torch\n",
    "import copy\n",
    "from tqdm.notebook import tqdm"
   ]
  },
  {
   "cell_type": "code",
   "execution_count": 3,
   "metadata": {},
   "outputs": [],
   "source": [
    "data_path = 'data/msd/pro_sg'"
   ]
  },
  {
   "cell_type": "code",
   "execution_count": 4,
   "metadata": {},
   "outputs": [],
   "source": [
    "train_df = pd.read_csv(join(data_path, f\"train.csv\"))\n",
    "\n",
    "val_df_tr = pd.read_csv(join(data_path, f\"validation_tr.csv\"))\n",
    "val_df_te = pd.read_csv(join(data_path, f\"validation_te.csv\"))\n",
    "\n",
    "test_df_tr = pd.read_csv(join(data_path, f\"test_tr.csv\"))\n",
    "test_df_te = pd.read_csv(join(data_path, f\"test_te.csv\"))"
   ]
  },
  {
   "cell_type": "code",
   "execution_count": 5,
   "metadata": {},
   "outputs": [
    {
     "data": {
      "text/html": [
       "<div>\n",
       "<style scoped>\n",
       "    .dataframe tbody tr th:only-of-type {\n",
       "        vertical-align: middle;\n",
       "    }\n",
       "\n",
       "    .dataframe tbody tr th {\n",
       "        vertical-align: top;\n",
       "    }\n",
       "\n",
       "    .dataframe thead th {\n",
       "        text-align: right;\n",
       "    }\n",
       "</style>\n",
       "<table border=\"1\" class=\"dataframe\">\n",
       "  <thead>\n",
       "    <tr style=\"text-align: right;\">\n",
       "      <th></th>\n",
       "      <th>uid</th>\n",
       "      <th>sid</th>\n",
       "    </tr>\n",
       "  </thead>\n",
       "  <tbody>\n",
       "    <tr>\n",
       "      <th>0</th>\n",
       "      <td>44118</td>\n",
       "      <td>0</td>\n",
       "    </tr>\n",
       "    <tr>\n",
       "      <th>1</th>\n",
       "      <td>44118</td>\n",
       "      <td>1</td>\n",
       "    </tr>\n",
       "    <tr>\n",
       "      <th>2</th>\n",
       "      <td>44118</td>\n",
       "      <td>2</td>\n",
       "    </tr>\n",
       "    <tr>\n",
       "      <th>3</th>\n",
       "      <td>44118</td>\n",
       "      <td>3</td>\n",
       "    </tr>\n",
       "    <tr>\n",
       "      <th>4</th>\n",
       "      <td>44118</td>\n",
       "      <td>4</td>\n",
       "    </tr>\n",
       "  </tbody>\n",
       "</table>\n",
       "</div>"
      ],
      "text/plain": [
       "     uid  sid\n",
       "0  44118    0\n",
       "1  44118    1\n",
       "2  44118    2\n",
       "3  44118    3\n",
       "4  44118    4"
      ]
     },
     "execution_count": 5,
     "metadata": {},
     "output_type": "execute_result"
    }
   ],
   "source": [
    "train_df.head()"
   ]
  },
  {
   "cell_type": "code",
   "execution_count": 7,
   "metadata": {},
   "outputs": [],
   "source": [
    "def recall_at_k(actual, predicted, k):\n",
    "    act_set = set(actual)\n",
    "    pred_set = set(predicted[:k])\n",
    "\n",
    "    min_size = np.min([len(act_set), len(pred_set)])\n",
    "    min_size = len(act_set)\n",
    "\n",
    "    result = len(act_set & pred_set) / float(min_size)\n",
    "    return result"
   ]
  },
  {
   "cell_type": "code",
   "execution_count": 8,
   "metadata": {},
   "outputs": [],
   "source": [
    "def evaluate(ease_model, eval_tr, eval_te, k):\n",
    "    predictions = ease_model.predict(eval_tr, k)\n",
    "\n",
    "    uid_to_prediction = dict(zip(eval_tr.uid.unique(), predictions.numpy()))\n",
    "\n",
    "    preds_with_true = eval_te.groupby(\"uid\").agg({'sid': list})\n",
    "    preds_with_true = preds_with_true.reset_index()\n",
    "    preds_with_true['preds'] = preds_with_true.apply(lambda x: uid_to_prediction.get(x.uid), axis=1)\n",
    "\n",
    "    return preds_with_true.apply(lambda x: recall_at_k(x.sid, x.preds, k), axis=1).mean()"
   ]
  },
  {
   "cell_type": "code",
   "execution_count": 9,
   "metadata": {},
   "outputs": [],
   "source": [
    "all_results_df = pd.DataFrame(columns=['alpha', 'bagging_size', 'r_20', 'r_50', 'random_state'])"
   ]
  },
  {
   "cell_type": "code",
   "execution_count": null,
   "metadata": {
    "pycharm": {
     "name": "#%%\n"
    }
   },
   "outputs": [
    {
     "data": {
      "application/vnd.jupyter.widget-view+json": {
       "model_id": "3b7604743f77488199acd31d7c16a631",
       "version_major": 2,
       "version_minor": 0
      },
      "text/plain": [
       "  0%|          | 0/5 [00:00<?, ?it/s]"
      ]
     },
     "metadata": {},
     "output_type": "display_data"
    },
    {
     "data": {
      "application/vnd.jupyter.widget-view+json": {
       "model_id": "4d8388c2f39144448de42edf56258dfb",
       "version_major": 2,
       "version_minor": 0
      },
      "text/plain": [
       "  0%|          | 0/4 [00:00<?, ?it/s]"
      ]
     },
     "metadata": {},
     "output_type": "display_data"
    },
    {
     "data": {
      "application/vnd.jupyter.widget-view+json": {
       "model_id": "7300af9771614937851698a390ad039e",
       "version_major": 2,
       "version_minor": 0
      },
      "text/plain": [
       "  0%|          | 0/3 [00:00<?, ?it/s]"
      ]
     },
     "metadata": {},
     "output_type": "display_data"
    },
    {
     "data": {
      "application/vnd.jupyter.widget-view+json": {
       "model_id": "df5c85ac9f884a9e87bb3947ae4be22c",
       "version_major": 2,
       "version_minor": 0
      },
      "text/plain": [
       "  0%|          | 0/1 [00:00<?, ?it/s]"
      ]
     },
     "metadata": {},
     "output_type": "display_data"
    },
    {
     "name": "stdout",
     "output_type": "stream",
     "text": [
      "random_state:0 - alpha:0.0 - bagging_size:1 - i:0\n",
      "r_20:0.23177472276262198, r_50:0.37100706000462846\n"
     ]
    },
    {
     "data": {
      "application/vnd.jupyter.widget-view+json": {
       "model_id": "cbd8a79f60e540b0aee4f1e548295025",
       "version_major": 2,
       "version_minor": 0
      },
      "text/plain": [
       "  0%|          | 0/5 [00:00<?, ?it/s]"
      ]
     },
     "metadata": {},
     "output_type": "display_data"
    },
    {
     "name": "stdout",
     "output_type": "stream",
     "text": [
      "random_state:0 - alpha:0.0 - bagging_size:5 - i:0\n",
      "random_state:0 - alpha:0.0 - bagging_size:5 - i:1\n",
      "random_state:0 - alpha:0.0 - bagging_size:5 - i:2\n",
      "random_state:0 - alpha:0.0 - bagging_size:5 - i:3\n",
      "random_state:0 - alpha:0.0 - bagging_size:5 - i:4\n",
      "r_20:0.23177472276262198, r_50:0.37100706000462846\n"
     ]
    },
    {
     "data": {
      "application/vnd.jupyter.widget-view+json": {
       "model_id": "fcf102abc8b44cb6802056e4a6f4b2b3",
       "version_major": 2,
       "version_minor": 0
      },
      "text/plain": [
       "  0%|          | 0/10 [00:00<?, ?it/s]"
      ]
     },
     "metadata": {},
     "output_type": "display_data"
    },
    {
     "name": "stdout",
     "output_type": "stream",
     "text": [
      "random_state:0 - alpha:0.0 - bagging_size:10 - i:0\n",
      "random_state:0 - alpha:0.0 - bagging_size:10 - i:1\n",
      "random_state:0 - alpha:0.0 - bagging_size:10 - i:2\n",
      "random_state:0 - alpha:0.0 - bagging_size:10 - i:3\n",
      "random_state:0 - alpha:0.0 - bagging_size:10 - i:4\n",
      "random_state:0 - alpha:0.0 - bagging_size:10 - i:5\n",
      "random_state:0 - alpha:0.0 - bagging_size:10 - i:6\n",
      "random_state:0 - alpha:0.0 - bagging_size:10 - i:7\n",
      "random_state:0 - alpha:0.0 - bagging_size:10 - i:8\n",
      "random_state:0 - alpha:0.0 - bagging_size:10 - i:9\n",
      "r_20:0.23177472276262198, r_50:0.37100706000462846\n"
     ]
    },
    {
     "data": {
      "application/vnd.jupyter.widget-view+json": {
       "model_id": "631127e19b5b48c9aac1f18a8c1cea86",
       "version_major": 2,
       "version_minor": 0
      },
      "text/plain": [
       "  0%|          | 0/3 [00:00<?, ?it/s]"
      ]
     },
     "metadata": {},
     "output_type": "display_data"
    },
    {
     "data": {
      "application/vnd.jupyter.widget-view+json": {
       "model_id": "bcbebedded8c478c9d3cc16f3274f233",
       "version_major": 2,
       "version_minor": 0
      },
      "text/plain": [
       "  0%|          | 0/1 [00:00<?, ?it/s]"
      ]
     },
     "metadata": {},
     "output_type": "display_data"
    },
    {
     "name": "stdout",
     "output_type": "stream",
     "text": [
      "random_state:0 - alpha:0.03 - bagging_size:1 - i:0\n",
      "r_20:0.23160390836684808, r_50:0.3708227591479322\n"
     ]
    },
    {
     "data": {
      "application/vnd.jupyter.widget-view+json": {
       "model_id": "c3b6b9a98d804fde88c1512a4750de33",
       "version_major": 2,
       "version_minor": 0
      },
      "text/plain": [
       "  0%|          | 0/5 [00:00<?, ?it/s]"
      ]
     },
     "metadata": {},
     "output_type": "display_data"
    },
    {
     "name": "stdout",
     "output_type": "stream",
     "text": [
      "random_state:0 - alpha:0.03 - bagging_size:5 - i:0\n",
      "random_state:0 - alpha:0.03 - bagging_size:5 - i:1\n",
      "random_state:0 - alpha:0.03 - bagging_size:5 - i:2\n",
      "random_state:0 - alpha:0.03 - bagging_size:5 - i:3\n",
      "random_state:0 - alpha:0.03 - bagging_size:5 - i:4\n",
      "r_20:0.23168081588738632, r_50:0.370868189647906\n"
     ]
    },
    {
     "data": {
      "application/vnd.jupyter.widget-view+json": {
       "model_id": "75948799663846e7a0f27b0af018e6ac",
       "version_major": 2,
       "version_minor": 0
      },
      "text/plain": [
       "  0%|          | 0/10 [00:00<?, ?it/s]"
      ]
     },
     "metadata": {},
     "output_type": "display_data"
    },
    {
     "name": "stdout",
     "output_type": "stream",
     "text": [
      "random_state:0 - alpha:0.03 - bagging_size:10 - i:0\n",
      "random_state:0 - alpha:0.03 - bagging_size:10 - i:1\n",
      "random_state:0 - alpha:0.03 - bagging_size:10 - i:2\n",
      "random_state:0 - alpha:0.03 - bagging_size:10 - i:3\n",
      "random_state:0 - alpha:0.03 - bagging_size:10 - i:4\n",
      "random_state:0 - alpha:0.03 - bagging_size:10 - i:5\n",
      "random_state:0 - alpha:0.03 - bagging_size:10 - i:6\n",
      "random_state:0 - alpha:0.03 - bagging_size:10 - i:7\n",
      "random_state:0 - alpha:0.03 - bagging_size:10 - i:8\n",
      "random_state:0 - alpha:0.03 - bagging_size:10 - i:9\n",
      "r_20:0.23161691755408806, r_50:0.3710888931686158\n"
     ]
    },
    {
     "data": {
      "application/vnd.jupyter.widget-view+json": {
       "model_id": "f7fad381df804a26b47a268e75d19569",
       "version_major": 2,
       "version_minor": 0
      },
      "text/plain": [
       "  0%|          | 0/3 [00:00<?, ?it/s]"
      ]
     },
     "metadata": {},
     "output_type": "display_data"
    },
    {
     "data": {
      "application/vnd.jupyter.widget-view+json": {
       "model_id": "212bda42417e42b6961e0ad8fbfea161",
       "version_major": 2,
       "version_minor": 0
      },
      "text/plain": [
       "  0%|          | 0/1 [00:00<?, ?it/s]"
      ]
     },
     "metadata": {},
     "output_type": "display_data"
    },
    {
     "name": "stdout",
     "output_type": "stream",
     "text": [
      "random_state:0 - alpha:0.06 - bagging_size:1 - i:0\n",
      "r_20:0.23088067743471005, r_50:0.3705149473836935\n"
     ]
    },
    {
     "data": {
      "application/vnd.jupyter.widget-view+json": {
       "model_id": "8d1af2c943a8437ea00d3e3a9de81da0",
       "version_major": 2,
       "version_minor": 0
      },
      "text/plain": [
       "  0%|          | 0/5 [00:00<?, ?it/s]"
      ]
     },
     "metadata": {},
     "output_type": "display_data"
    },
    {
     "name": "stdout",
     "output_type": "stream",
     "text": [
      "random_state:0 - alpha:0.06 - bagging_size:5 - i:0\n",
      "random_state:0 - alpha:0.06 - bagging_size:5 - i:1\n",
      "random_state:0 - alpha:0.06 - bagging_size:5 - i:2\n",
      "random_state:0 - alpha:0.06 - bagging_size:5 - i:3\n",
      "random_state:0 - alpha:0.06 - bagging_size:5 - i:4\n",
      "r_20:0.23133616652717784, r_50:0.3708537719337351\n"
     ]
    },
    {
     "data": {
      "application/vnd.jupyter.widget-view+json": {
       "model_id": "e69d24c72f9b4e1aa3552de7282e48ac",
       "version_major": 2,
       "version_minor": 0
      },
      "text/plain": [
       "  0%|          | 0/10 [00:00<?, ?it/s]"
      ]
     },
     "metadata": {},
     "output_type": "display_data"
    },
    {
     "name": "stdout",
     "output_type": "stream",
     "text": [
      "random_state:0 - alpha:0.06 - bagging_size:10 - i:0\n",
      "random_state:0 - alpha:0.06 - bagging_size:10 - i:1\n",
      "random_state:0 - alpha:0.06 - bagging_size:10 - i:2\n",
      "random_state:0 - alpha:0.06 - bagging_size:10 - i:3\n",
      "random_state:0 - alpha:0.06 - bagging_size:10 - i:4\n",
      "random_state:0 - alpha:0.06 - bagging_size:10 - i:5\n",
      "random_state:0 - alpha:0.06 - bagging_size:10 - i:6\n",
      "random_state:0 - alpha:0.06 - bagging_size:10 - i:7\n",
      "random_state:0 - alpha:0.06 - bagging_size:10 - i:8\n",
      "random_state:0 - alpha:0.06 - bagging_size:10 - i:9\n",
      "r_20:0.23144196740617298, r_50:0.371001068442545\n"
     ]
    },
    {
     "data": {
      "application/vnd.jupyter.widget-view+json": {
       "model_id": "1887f193cd2740c7990026b29ba971a1",
       "version_major": 2,
       "version_minor": 0
      },
      "text/plain": [
       "  0%|          | 0/3 [00:00<?, ?it/s]"
      ]
     },
     "metadata": {},
     "output_type": "display_data"
    },
    {
     "data": {
      "application/vnd.jupyter.widget-view+json": {
       "model_id": "513d83384bd04bdd8edc5c2aa7f68a53",
       "version_major": 2,
       "version_minor": 0
      },
      "text/plain": [
       "  0%|          | 0/1 [00:00<?, ?it/s]"
      ]
     },
     "metadata": {},
     "output_type": "display_data"
    },
    {
     "name": "stdout",
     "output_type": "stream",
     "text": [
      "random_state:0 - alpha:0.09 - bagging_size:1 - i:0\n",
      "r_20:0.2308253933191694, r_50:0.37018976756847866\n"
     ]
    },
    {
     "data": {
      "application/vnd.jupyter.widget-view+json": {
       "model_id": "29215dc2f3e441c2861516abc087fdfb",
       "version_major": 2,
       "version_minor": 0
      },
      "text/plain": [
       "  0%|          | 0/5 [00:00<?, ?it/s]"
      ]
     },
     "metadata": {},
     "output_type": "display_data"
    },
    {
     "name": "stdout",
     "output_type": "stream",
     "text": [
      "random_state:0 - alpha:0.09 - bagging_size:5 - i:0\n",
      "random_state:0 - alpha:0.09 - bagging_size:5 - i:1\n",
      "random_state:0 - alpha:0.09 - bagging_size:5 - i:2\n",
      "random_state:0 - alpha:0.09 - bagging_size:5 - i:3\n",
      "random_state:0 - alpha:0.09 - bagging_size:5 - i:4\n",
      "r_20:0.23110867639796304, r_50:0.3707527772441759\n"
     ]
    },
    {
     "data": {
      "application/vnd.jupyter.widget-view+json": {
       "model_id": "b4ddd075efd14c2399dc9f6168058737",
       "version_major": 2,
       "version_minor": 0
      },
      "text/plain": [
       "  0%|          | 0/10 [00:00<?, ?it/s]"
      ]
     },
     "metadata": {},
     "output_type": "display_data"
    },
    {
     "name": "stdout",
     "output_type": "stream",
     "text": [
      "random_state:0 - alpha:0.09 - bagging_size:10 - i:0\n",
      "random_state:0 - alpha:0.09 - bagging_size:10 - i:1\n",
      "random_state:0 - alpha:0.09 - bagging_size:10 - i:2\n",
      "random_state:0 - alpha:0.09 - bagging_size:10 - i:3\n",
      "random_state:0 - alpha:0.09 - bagging_size:10 - i:4\n",
      "random_state:0 - alpha:0.09 - bagging_size:10 - i:5\n",
      "random_state:0 - alpha:0.09 - bagging_size:10 - i:6\n",
      "random_state:0 - alpha:0.09 - bagging_size:10 - i:7\n",
      "random_state:0 - alpha:0.09 - bagging_size:10 - i:8\n",
      "random_state:0 - alpha:0.09 - bagging_size:10 - i:9\n",
      "r_20:0.23114484364041182, r_50:0.37079721824156964\n"
     ]
    },
    {
     "data": {
      "application/vnd.jupyter.widget-view+json": {
       "model_id": "447d630f9a48487cbe2c3530cf8d1abb",
       "version_major": 2,
       "version_minor": 0
      },
      "text/plain": [
       "  0%|          | 0/4 [00:00<?, ?it/s]"
      ]
     },
     "metadata": {},
     "output_type": "display_data"
    },
    {
     "data": {
      "application/vnd.jupyter.widget-view+json": {
       "model_id": "a6d0cfae0b0a486fa809f3bd7a1f22a4",
       "version_major": 2,
       "version_minor": 0
      },
      "text/plain": [
       "  0%|          | 0/3 [00:00<?, ?it/s]"
      ]
     },
     "metadata": {},
     "output_type": "display_data"
    },
    {
     "data": {
      "application/vnd.jupyter.widget-view+json": {
       "model_id": "3a8e11b097594a328777d2e6274698d5",
       "version_major": 2,
       "version_minor": 0
      },
      "text/plain": [
       "  0%|          | 0/1 [00:00<?, ?it/s]"
      ]
     },
     "metadata": {},
     "output_type": "display_data"
    },
    {
     "name": "stdout",
     "output_type": "stream",
     "text": [
      "random_state:1 - alpha:0.0 - bagging_size:1 - i:0\n",
      "r_20:0.23177472276262198, r_50:0.37100706000462846\n"
     ]
    },
    {
     "data": {
      "application/vnd.jupyter.widget-view+json": {
       "model_id": "c6b09c8c7bf34180b3d95561382366f4",
       "version_major": 2,
       "version_minor": 0
      },
      "text/plain": [
       "  0%|          | 0/5 [00:00<?, ?it/s]"
      ]
     },
     "metadata": {},
     "output_type": "display_data"
    },
    {
     "name": "stdout",
     "output_type": "stream",
     "text": [
      "random_state:1 - alpha:0.0 - bagging_size:5 - i:0\n",
      "random_state:1 - alpha:0.0 - bagging_size:5 - i:1\n",
      "random_state:1 - alpha:0.0 - bagging_size:5 - i:2\n",
      "random_state:1 - alpha:0.0 - bagging_size:5 - i:3\n",
      "random_state:1 - alpha:0.0 - bagging_size:5 - i:4\n",
      "r_20:0.23177472276262198, r_50:0.37100706000462846\n"
     ]
    },
    {
     "data": {
      "application/vnd.jupyter.widget-view+json": {
       "model_id": "b1e74df43c8d4538a50d81f6bfb49565",
       "version_major": 2,
       "version_minor": 0
      },
      "text/plain": [
       "  0%|          | 0/10 [00:00<?, ?it/s]"
      ]
     },
     "metadata": {},
     "output_type": "display_data"
    },
    {
     "name": "stdout",
     "output_type": "stream",
     "text": [
      "random_state:1 - alpha:0.0 - bagging_size:10 - i:0\n",
      "random_state:1 - alpha:0.0 - bagging_size:10 - i:1\n",
      "random_state:1 - alpha:0.0 - bagging_size:10 - i:2\n",
      "random_state:1 - alpha:0.0 - bagging_size:10 - i:3\n",
      "random_state:1 - alpha:0.0 - bagging_size:10 - i:4\n",
      "random_state:1 - alpha:0.0 - bagging_size:10 - i:5\n",
      "random_state:1 - alpha:0.0 - bagging_size:10 - i:6\n",
      "random_state:1 - alpha:0.0 - bagging_size:10 - i:7\n",
      "random_state:1 - alpha:0.0 - bagging_size:10 - i:8\n",
      "random_state:1 - alpha:0.0 - bagging_size:10 - i:9\n",
      "r_20:0.23177472276262198, r_50:0.37100706000462846\n"
     ]
    },
    {
     "data": {
      "application/vnd.jupyter.widget-view+json": {
       "model_id": "46b8c3b2b7e14933b30015c43c4d21c6",
       "version_major": 2,
       "version_minor": 0
      },
      "text/plain": [
       "  0%|          | 0/3 [00:00<?, ?it/s]"
      ]
     },
     "metadata": {},
     "output_type": "display_data"
    },
    {
     "data": {
      "application/vnd.jupyter.widget-view+json": {
       "model_id": "b47e113a20204f1b90b2c1dcb486f654",
       "version_major": 2,
       "version_minor": 0
      },
      "text/plain": [
       "  0%|          | 0/1 [00:00<?, ?it/s]"
      ]
     },
     "metadata": {},
     "output_type": "display_data"
    },
    {
     "name": "stdout",
     "output_type": "stream",
     "text": [
      "random_state:1 - alpha:0.03 - bagging_size:1 - i:0\n",
      "r_20:0.23167162529955956, r_50:0.37072066802160875\n"
     ]
    },
    {
     "data": {
      "application/vnd.jupyter.widget-view+json": {
       "model_id": "a9a8fcdbd4b049f5ba148aee90025587",
       "version_major": 2,
       "version_minor": 0
      },
      "text/plain": [
       "  0%|          | 0/5 [00:00<?, ?it/s]"
      ]
     },
     "metadata": {},
     "output_type": "display_data"
    },
    {
     "name": "stdout",
     "output_type": "stream",
     "text": [
      "random_state:1 - alpha:0.03 - bagging_size:5 - i:0\n",
      "random_state:1 - alpha:0.03 - bagging_size:5 - i:1\n",
      "random_state:1 - alpha:0.03 - bagging_size:5 - i:2\n",
      "random_state:1 - alpha:0.03 - bagging_size:5 - i:3\n",
      "random_state:1 - alpha:0.03 - bagging_size:5 - i:4\n",
      "r_20:0.23170922581185063, r_50:0.3709003517731535\n"
     ]
    },
    {
     "data": {
      "application/vnd.jupyter.widget-view+json": {
       "model_id": "d26344b2189440b893421ee93b7c5a95",
       "version_major": 2,
       "version_minor": 0
      },
      "text/plain": [
       "  0%|          | 0/10 [00:00<?, ?it/s]"
      ]
     },
     "metadata": {},
     "output_type": "display_data"
    },
    {
     "name": "stdout",
     "output_type": "stream",
     "text": [
      "random_state:1 - alpha:0.03 - bagging_size:10 - i:0\n",
      "random_state:1 - alpha:0.03 - bagging_size:10 - i:1\n",
      "random_state:1 - alpha:0.03 - bagging_size:10 - i:2\n",
      "random_state:1 - alpha:0.03 - bagging_size:10 - i:3\n",
      "random_state:1 - alpha:0.03 - bagging_size:10 - i:4\n",
      "random_state:1 - alpha:0.03 - bagging_size:10 - i:5\n",
      "random_state:1 - alpha:0.03 - bagging_size:10 - i:6\n",
      "random_state:1 - alpha:0.03 - bagging_size:10 - i:7\n",
      "random_state:1 - alpha:0.03 - bagging_size:10 - i:8\n",
      "random_state:1 - alpha:0.03 - bagging_size:10 - i:9\n",
      "r_20:0.23163883517638148, r_50:0.371061780587499\n"
     ]
    },
    {
     "data": {
      "application/vnd.jupyter.widget-view+json": {
       "model_id": "7f7b14dbb4fb483ca602d2d3cc2a018f",
       "version_major": 2,
       "version_minor": 0
      },
      "text/plain": [
       "  0%|          | 0/3 [00:00<?, ?it/s]"
      ]
     },
     "metadata": {},
     "output_type": "display_data"
    },
    {
     "data": {
      "application/vnd.jupyter.widget-view+json": {
       "model_id": "2ad67540800e489db85cc62e40859e7e",
       "version_major": 2,
       "version_minor": 0
      },
      "text/plain": [
       "  0%|          | 0/1 [00:00<?, ?it/s]"
      ]
     },
     "metadata": {},
     "output_type": "display_data"
    },
    {
     "name": "stdout",
     "output_type": "stream",
     "text": [
      "random_state:1 - alpha:0.06 - bagging_size:1 - i:0\n",
      "r_20:0.23123585223338206, r_50:0.37061151441340795\n"
     ]
    },
    {
     "data": {
      "application/vnd.jupyter.widget-view+json": {
       "model_id": "807cc7608be449e3abd0fb172fc51ec5",
       "version_major": 2,
       "version_minor": 0
      },
      "text/plain": [
       "  0%|          | 0/5 [00:00<?, ?it/s]"
      ]
     },
     "metadata": {},
     "output_type": "display_data"
    },
    {
     "name": "stdout",
     "output_type": "stream",
     "text": [
      "random_state:1 - alpha:0.06 - bagging_size:5 - i:0\n",
      "random_state:1 - alpha:0.06 - bagging_size:5 - i:1\n",
      "random_state:1 - alpha:0.06 - bagging_size:5 - i:2\n",
      "random_state:1 - alpha:0.06 - bagging_size:5 - i:3\n",
      "random_state:1 - alpha:0.06 - bagging_size:5 - i:4\n",
      "r_20:0.23161562732717805, r_50:0.370731291505712\n"
     ]
    },
    {
     "data": {
      "application/vnd.jupyter.widget-view+json": {
       "model_id": "3411bd417622468c8374f4270b59e377",
       "version_major": 2,
       "version_minor": 0
      },
      "text/plain": [
       "  0%|          | 0/10 [00:00<?, ?it/s]"
      ]
     },
     "metadata": {},
     "output_type": "display_data"
    },
    {
     "name": "stdout",
     "output_type": "stream",
     "text": [
      "random_state:1 - alpha:0.06 - bagging_size:10 - i:0\n",
      "random_state:1 - alpha:0.06 - bagging_size:10 - i:1\n",
      "random_state:1 - alpha:0.06 - bagging_size:10 - i:2\n",
      "random_state:1 - alpha:0.06 - bagging_size:10 - i:3\n",
      "random_state:1 - alpha:0.06 - bagging_size:10 - i:4\n",
      "random_state:1 - alpha:0.06 - bagging_size:10 - i:5\n",
      "random_state:1 - alpha:0.06 - bagging_size:10 - i:6\n",
      "random_state:1 - alpha:0.06 - bagging_size:10 - i:7\n",
      "random_state:1 - alpha:0.06 - bagging_size:10 - i:8\n",
      "random_state:1 - alpha:0.06 - bagging_size:10 - i:9\n",
      "r_20:0.2314815365289671, r_50:0.37089978047265526\n"
     ]
    },
    {
     "data": {
      "application/vnd.jupyter.widget-view+json": {
       "model_id": "b4849a62776248309621aa553fdfe695",
       "version_major": 2,
       "version_minor": 0
      },
      "text/plain": [
       "  0%|          | 0/3 [00:00<?, ?it/s]"
      ]
     },
     "metadata": {},
     "output_type": "display_data"
    },
    {
     "data": {
      "application/vnd.jupyter.widget-view+json": {
       "model_id": "991f534b1b0440ed960e4c7109354ec7",
       "version_major": 2,
       "version_minor": 0
      },
      "text/plain": [
       "  0%|          | 0/1 [00:00<?, ?it/s]"
      ]
     },
     "metadata": {},
     "output_type": "display_data"
    },
    {
     "name": "stdout",
     "output_type": "stream",
     "text": [
      "random_state:1 - alpha:0.09 - bagging_size:1 - i:0\n",
      "r_20:0.23075563860679058, r_50:0.37004951939402714\n"
     ]
    },
    {
     "data": {
      "application/vnd.jupyter.widget-view+json": {
       "model_id": "c9db660137fb4d6f9f8fbe6b66a8aade",
       "version_major": 2,
       "version_minor": 0
      },
      "text/plain": [
       "  0%|          | 0/5 [00:00<?, ?it/s]"
      ]
     },
     "metadata": {},
     "output_type": "display_data"
    },
    {
     "name": "stdout",
     "output_type": "stream",
     "text": [
      "random_state:1 - alpha:0.09 - bagging_size:5 - i:0\n",
      "random_state:1 - alpha:0.09 - bagging_size:5 - i:1\n",
      "random_state:1 - alpha:0.09 - bagging_size:5 - i:2\n",
      "random_state:1 - alpha:0.09 - bagging_size:5 - i:3\n",
      "random_state:1 - alpha:0.09 - bagging_size:5 - i:4\n",
      "r_20:0.2313231323696187, r_50:0.3710411420204615\n"
     ]
    },
    {
     "data": {
      "application/vnd.jupyter.widget-view+json": {
       "model_id": "f9fb5f08d2bf406f8be8086e10ae63e6",
       "version_major": 2,
       "version_minor": 0
      },
      "text/plain": [
       "  0%|          | 0/10 [00:00<?, ?it/s]"
      ]
     },
     "metadata": {},
     "output_type": "display_data"
    },
    {
     "name": "stdout",
     "output_type": "stream",
     "text": [
      "random_state:1 - alpha:0.09 - bagging_size:10 - i:0\n",
      "random_state:1 - alpha:0.09 - bagging_size:10 - i:1\n",
      "random_state:1 - alpha:0.09 - bagging_size:10 - i:2\n",
      "random_state:1 - alpha:0.09 - bagging_size:10 - i:3\n",
      "random_state:1 - alpha:0.09 - bagging_size:10 - i:4\n",
      "random_state:1 - alpha:0.09 - bagging_size:10 - i:5\n",
      "random_state:1 - alpha:0.09 - bagging_size:10 - i:6\n",
      "random_state:1 - alpha:0.09 - bagging_size:10 - i:7\n",
      "random_state:1 - alpha:0.09 - bagging_size:10 - i:8\n",
      "random_state:1 - alpha:0.09 - bagging_size:10 - i:9\n",
      "r_20:0.23125184990537367, r_50:0.3709157816199286\n"
     ]
    },
    {
     "data": {
      "application/vnd.jupyter.widget-view+json": {
       "model_id": "c0ab0bf0113c4e35893d75029a6ee2b1",
       "version_major": 2,
       "version_minor": 0
      },
      "text/plain": [
       "  0%|          | 0/4 [00:00<?, ?it/s]"
      ]
     },
     "metadata": {},
     "output_type": "display_data"
    },
    {
     "data": {
      "application/vnd.jupyter.widget-view+json": {
       "model_id": "4264c5f22cba4c7cb5438ab474c521fb",
       "version_major": 2,
       "version_minor": 0
      },
      "text/plain": [
       "  0%|          | 0/3 [00:00<?, ?it/s]"
      ]
     },
     "metadata": {},
     "output_type": "display_data"
    },
    {
     "data": {
      "application/vnd.jupyter.widget-view+json": {
       "model_id": "b3439d4338e24ea3894495012cd56ce9",
       "version_major": 2,
       "version_minor": 0
      },
      "text/plain": [
       "  0%|          | 0/1 [00:00<?, ?it/s]"
      ]
     },
     "metadata": {},
     "output_type": "display_data"
    },
    {
     "name": "stdout",
     "output_type": "stream",
     "text": [
      "random_state:2 - alpha:0.0 - bagging_size:1 - i:0\n",
      "r_20:0.23177472276262198, r_50:0.37100706000462846\n"
     ]
    },
    {
     "data": {
      "application/vnd.jupyter.widget-view+json": {
       "model_id": "5e187b80ab0d433293eb3b54d7821c52",
       "version_major": 2,
       "version_minor": 0
      },
      "text/plain": [
       "  0%|          | 0/5 [00:00<?, ?it/s]"
      ]
     },
     "metadata": {},
     "output_type": "display_data"
    },
    {
     "name": "stdout",
     "output_type": "stream",
     "text": [
      "random_state:2 - alpha:0.0 - bagging_size:5 - i:0\n",
      "random_state:2 - alpha:0.0 - bagging_size:5 - i:1\n",
      "random_state:2 - alpha:0.0 - bagging_size:5 - i:2\n",
      "random_state:2 - alpha:0.0 - bagging_size:5 - i:3\n",
      "random_state:2 - alpha:0.0 - bagging_size:5 - i:4\n",
      "r_20:0.23177472276262198, r_50:0.37100706000462846\n"
     ]
    },
    {
     "data": {
      "application/vnd.jupyter.widget-view+json": {
       "model_id": "644fc84d910541bf8bbd68811460fc73",
       "version_major": 2,
       "version_minor": 0
      },
      "text/plain": [
       "  0%|          | 0/10 [00:00<?, ?it/s]"
      ]
     },
     "metadata": {},
     "output_type": "display_data"
    },
    {
     "name": "stdout",
     "output_type": "stream",
     "text": [
      "random_state:2 - alpha:0.0 - bagging_size:10 - i:0\n",
      "random_state:2 - alpha:0.0 - bagging_size:10 - i:1\n",
      "random_state:2 - alpha:0.0 - bagging_size:10 - i:2\n",
      "random_state:2 - alpha:0.0 - bagging_size:10 - i:3\n",
      "random_state:2 - alpha:0.0 - bagging_size:10 - i:4\n",
      "random_state:2 - alpha:0.0 - bagging_size:10 - i:5\n",
      "random_state:2 - alpha:0.0 - bagging_size:10 - i:6\n",
      "random_state:2 - alpha:0.0 - bagging_size:10 - i:7\n",
      "random_state:2 - alpha:0.0 - bagging_size:10 - i:8\n",
      "random_state:2 - alpha:0.0 - bagging_size:10 - i:9\n",
      "r_20:0.23177472276262198, r_50:0.37100706000462846\n"
     ]
    },
    {
     "data": {
      "application/vnd.jupyter.widget-view+json": {
       "model_id": "613936c5566243629cad1fbe1e118079",
       "version_major": 2,
       "version_minor": 0
      },
      "text/plain": [
       "  0%|          | 0/3 [00:00<?, ?it/s]"
      ]
     },
     "metadata": {},
     "output_type": "display_data"
    },
    {
     "data": {
      "application/vnd.jupyter.widget-view+json": {
       "model_id": "36120a4ec8b0400a8203148e8b12b257",
       "version_major": 2,
       "version_minor": 0
      },
      "text/plain": [
       "  0%|          | 0/1 [00:00<?, ?it/s]"
      ]
     },
     "metadata": {},
     "output_type": "display_data"
    },
    {
     "name": "stdout",
     "output_type": "stream",
     "text": [
      "random_state:2 - alpha:0.03 - bagging_size:1 - i:0\n",
      "r_20:0.23165493252573574, r_50:0.37084761804303756\n"
     ]
    },
    {
     "data": {
      "application/vnd.jupyter.widget-view+json": {
       "model_id": "093d26fbcc074e3baa6b2d5ad6684726",
       "version_major": 2,
       "version_minor": 0
      },
      "text/plain": [
       "  0%|          | 0/5 [00:00<?, ?it/s]"
      ]
     },
     "metadata": {},
     "output_type": "display_data"
    },
    {
     "name": "stdout",
     "output_type": "stream",
     "text": [
      "random_state:2 - alpha:0.03 - bagging_size:5 - i:0\n",
      "random_state:2 - alpha:0.03 - bagging_size:5 - i:1\n",
      "random_state:2 - alpha:0.03 - bagging_size:5 - i:2\n",
      "random_state:2 - alpha:0.03 - bagging_size:5 - i:3\n",
      "random_state:2 - alpha:0.03 - bagging_size:5 - i:4\n",
      "r_20:0.231649656031548, r_50:0.37094461223899144\n"
     ]
    },
    {
     "data": {
      "application/vnd.jupyter.widget-view+json": {
       "model_id": "affd2033dcd849a6a2e12c6245715018",
       "version_major": 2,
       "version_minor": 0
      },
      "text/plain": [
       "  0%|          | 0/10 [00:00<?, ?it/s]"
      ]
     },
     "metadata": {},
     "output_type": "display_data"
    },
    {
     "name": "stdout",
     "output_type": "stream",
     "text": [
      "random_state:2 - alpha:0.03 - bagging_size:10 - i:0\n",
      "random_state:2 - alpha:0.03 - bagging_size:10 - i:1\n",
      "random_state:2 - alpha:0.03 - bagging_size:10 - i:2\n",
      "random_state:2 - alpha:0.03 - bagging_size:10 - i:3\n",
      "random_state:2 - alpha:0.03 - bagging_size:10 - i:4\n",
      "random_state:2 - alpha:0.03 - bagging_size:10 - i:5\n",
      "random_state:2 - alpha:0.03 - bagging_size:10 - i:6\n",
      "random_state:2 - alpha:0.03 - bagging_size:10 - i:7\n",
      "random_state:2 - alpha:0.03 - bagging_size:10 - i:8\n",
      "random_state:2 - alpha:0.03 - bagging_size:10 - i:9\n",
      "r_20:0.23167351622890317, r_50:0.37101128820605717\n"
     ]
    },
    {
     "data": {
      "application/vnd.jupyter.widget-view+json": {
       "model_id": "8a9771d888d340e292eeb72468e98c8f",
       "version_major": 2,
       "version_minor": 0
      },
      "text/plain": [
       "  0%|          | 0/3 [00:00<?, ?it/s]"
      ]
     },
     "metadata": {},
     "output_type": "display_data"
    },
    {
     "data": {
      "application/vnd.jupyter.widget-view+json": {
       "model_id": "7d9b044674604809b53e55c38046b999",
       "version_major": 2,
       "version_minor": 0
      },
      "text/plain": [
       "  0%|          | 0/1 [00:00<?, ?it/s]"
      ]
     },
     "metadata": {},
     "output_type": "display_data"
    },
    {
     "name": "stdout",
     "output_type": "stream",
     "text": [
      "random_state:2 - alpha:0.06 - bagging_size:1 - i:0\n",
      "r_20:0.23125317933774978, r_50:0.3702432216260046\n"
     ]
    },
    {
     "data": {
      "application/vnd.jupyter.widget-view+json": {
       "model_id": "0310c2600da849dba8124008e7da52d9",
       "version_major": 2,
       "version_minor": 0
      },
      "text/plain": [
       "  0%|          | 0/5 [00:00<?, ?it/s]"
      ]
     },
     "metadata": {},
     "output_type": "display_data"
    },
    {
     "name": "stdout",
     "output_type": "stream",
     "text": [
      "random_state:2 - alpha:0.06 - bagging_size:5 - i:0\n",
      "random_state:2 - alpha:0.06 - bagging_size:5 - i:1\n",
      "random_state:2 - alpha:0.06 - bagging_size:5 - i:2\n",
      "random_state:2 - alpha:0.06 - bagging_size:5 - i:3\n",
      "random_state:2 - alpha:0.06 - bagging_size:5 - i:4\n",
      "r_20:0.23161475627441355, r_50:0.37079903071307896\n"
     ]
    },
    {
     "data": {
      "application/vnd.jupyter.widget-view+json": {
       "model_id": "7b69b6830d0449a58bc52573d67fb0d8",
       "version_major": 2,
       "version_minor": 0
      },
      "text/plain": [
       "  0%|          | 0/10 [00:00<?, ?it/s]"
      ]
     },
     "metadata": {},
     "output_type": "display_data"
    },
    {
     "name": "stdout",
     "output_type": "stream",
     "text": [
      "random_state:2 - alpha:0.06 - bagging_size:10 - i:0\n",
      "random_state:2 - alpha:0.06 - bagging_size:10 - i:1\n",
      "random_state:2 - alpha:0.06 - bagging_size:10 - i:2\n",
      "random_state:2 - alpha:0.06 - bagging_size:10 - i:3\n",
      "random_state:2 - alpha:0.06 - bagging_size:10 - i:4\n",
      "random_state:2 - alpha:0.06 - bagging_size:10 - i:5\n",
      "random_state:2 - alpha:0.06 - bagging_size:10 - i:6\n",
      "random_state:2 - alpha:0.06 - bagging_size:10 - i:7\n",
      "random_state:2 - alpha:0.06 - bagging_size:10 - i:8\n",
      "random_state:2 - alpha:0.06 - bagging_size:10 - i:9\n",
      "r_20:0.23149664307580664, r_50:0.37092199699532247\n"
     ]
    },
    {
     "data": {
      "application/vnd.jupyter.widget-view+json": {
       "model_id": "8679bdf46c4749cebdc1d7064b47a50c",
       "version_major": 2,
       "version_minor": 0
      },
      "text/plain": [
       "  0%|          | 0/3 [00:00<?, ?it/s]"
      ]
     },
     "metadata": {},
     "output_type": "display_data"
    },
    {
     "data": {
      "application/vnd.jupyter.widget-view+json": {
       "model_id": "dcfb1361ac024d60822a07786c7bf039",
       "version_major": 2,
       "version_minor": 0
      },
      "text/plain": [
       "  0%|          | 0/1 [00:00<?, ?it/s]"
      ]
     },
     "metadata": {},
     "output_type": "display_data"
    },
    {
     "name": "stdout",
     "output_type": "stream",
     "text": [
      "random_state:2 - alpha:0.09 - bagging_size:1 - i:0\n",
      "r_20:0.2312289875983305, r_50:0.36968535126315977\n"
     ]
    },
    {
     "data": {
      "application/vnd.jupyter.widget-view+json": {
       "model_id": "0cb520a9660e4066ad8836a79133fbac",
       "version_major": 2,
       "version_minor": 0
      },
      "text/plain": [
       "  0%|          | 0/5 [00:00<?, ?it/s]"
      ]
     },
     "metadata": {},
     "output_type": "display_data"
    },
    {
     "name": "stdout",
     "output_type": "stream",
     "text": [
      "random_state:2 - alpha:0.09 - bagging_size:5 - i:0\n",
      "random_state:2 - alpha:0.09 - bagging_size:5 - i:1\n",
      "random_state:2 - alpha:0.09 - bagging_size:5 - i:2\n",
      "random_state:2 - alpha:0.09 - bagging_size:5 - i:3\n",
      "random_state:2 - alpha:0.09 - bagging_size:5 - i:4\n",
      "r_20:0.23140388946588675, r_50:0.37074100536927557\n"
     ]
    },
    {
     "data": {
      "application/vnd.jupyter.widget-view+json": {
       "model_id": "581f32423b6b43deae238d0e29f07d73",
       "version_major": 2,
       "version_minor": 0
      },
      "text/plain": [
       "  0%|          | 0/10 [00:00<?, ?it/s]"
      ]
     },
     "metadata": {},
     "output_type": "display_data"
    },
    {
     "name": "stdout",
     "output_type": "stream",
     "text": [
      "random_state:2 - alpha:0.09 - bagging_size:10 - i:0\n",
      "random_state:2 - alpha:0.09 - bagging_size:10 - i:1\n",
      "random_state:2 - alpha:0.09 - bagging_size:10 - i:2\n",
      "random_state:2 - alpha:0.09 - bagging_size:10 - i:3\n",
      "random_state:2 - alpha:0.09 - bagging_size:10 - i:4\n",
      "random_state:2 - alpha:0.09 - bagging_size:10 - i:5\n",
      "random_state:2 - alpha:0.09 - bagging_size:10 - i:6\n",
      "random_state:2 - alpha:0.09 - bagging_size:10 - i:7\n",
      "random_state:2 - alpha:0.09 - bagging_size:10 - i:8\n",
      "random_state:2 - alpha:0.09 - bagging_size:10 - i:9\n",
      "r_20:0.23142960085246628, r_50:0.37078485018151325\n"
     ]
    },
    {
     "data": {
      "application/vnd.jupyter.widget-view+json": {
       "model_id": "37a59a43cbef48b3847449f10cbac9ac",
       "version_major": 2,
       "version_minor": 0
      },
      "text/plain": [
       "  0%|          | 0/4 [00:00<?, ?it/s]"
      ]
     },
     "metadata": {},
     "output_type": "display_data"
    },
    {
     "data": {
      "application/vnd.jupyter.widget-view+json": {
       "model_id": "ed96496b747d4dd993daf863e29bc571",
       "version_major": 2,
       "version_minor": 0
      },
      "text/plain": [
       "  0%|          | 0/3 [00:00<?, ?it/s]"
      ]
     },
     "metadata": {},
     "output_type": "display_data"
    },
    {
     "data": {
      "application/vnd.jupyter.widget-view+json": {
       "model_id": "9322e0b5518c4f738888b8b9148ae990",
       "version_major": 2,
       "version_minor": 0
      },
      "text/plain": [
       "  0%|          | 0/1 [00:00<?, ?it/s]"
      ]
     },
     "metadata": {},
     "output_type": "display_data"
    },
    {
     "name": "stdout",
     "output_type": "stream",
     "text": [
      "random_state:3 - alpha:0.0 - bagging_size:1 - i:0\n",
      "r_20:0.23177472276262198, r_50:0.37100706000462846\n"
     ]
    },
    {
     "data": {
      "application/vnd.jupyter.widget-view+json": {
       "model_id": "e6131f4af4634e61aa7ed829c27f4a8c",
       "version_major": 2,
       "version_minor": 0
      },
      "text/plain": [
       "  0%|          | 0/5 [00:00<?, ?it/s]"
      ]
     },
     "metadata": {},
     "output_type": "display_data"
    },
    {
     "name": "stdout",
     "output_type": "stream",
     "text": [
      "random_state:3 - alpha:0.0 - bagging_size:5 - i:0\n",
      "random_state:3 - alpha:0.0 - bagging_size:5 - i:1\n",
      "random_state:3 - alpha:0.0 - bagging_size:5 - i:2\n",
      "random_state:3 - alpha:0.0 - bagging_size:5 - i:3\n",
      "random_state:3 - alpha:0.0 - bagging_size:5 - i:4\n",
      "r_20:0.23177472276262198, r_50:0.37100706000462846\n"
     ]
    },
    {
     "data": {
      "application/vnd.jupyter.widget-view+json": {
       "model_id": "57d3e05cc34c48f491159e5b0ae36629",
       "version_major": 2,
       "version_minor": 0
      },
      "text/plain": [
       "  0%|          | 0/10 [00:00<?, ?it/s]"
      ]
     },
     "metadata": {},
     "output_type": "display_data"
    },
    {
     "name": "stdout",
     "output_type": "stream",
     "text": [
      "random_state:3 - alpha:0.0 - bagging_size:10 - i:0\n",
      "random_state:3 - alpha:0.0 - bagging_size:10 - i:1\n",
      "random_state:3 - alpha:0.0 - bagging_size:10 - i:2\n",
      "random_state:3 - alpha:0.0 - bagging_size:10 - i:3\n",
      "random_state:3 - alpha:0.0 - bagging_size:10 - i:4\n",
      "random_state:3 - alpha:0.0 - bagging_size:10 - i:5\n",
      "random_state:3 - alpha:0.0 - bagging_size:10 - i:6\n",
      "random_state:3 - alpha:0.0 - bagging_size:10 - i:7\n",
      "random_state:3 - alpha:0.0 - bagging_size:10 - i:8\n",
      "random_state:3 - alpha:0.0 - bagging_size:10 - i:9\n",
      "r_20:0.23177472276262198, r_50:0.37100706000462846\n"
     ]
    },
    {
     "data": {
      "application/vnd.jupyter.widget-view+json": {
       "model_id": "386faae30aea464bb0160db7f8d73fd7",
       "version_major": 2,
       "version_minor": 0
      },
      "text/plain": [
       "  0%|          | 0/3 [00:00<?, ?it/s]"
      ]
     },
     "metadata": {},
     "output_type": "display_data"
    },
    {
     "data": {
      "application/vnd.jupyter.widget-view+json": {
       "model_id": "8bbe180aa920456a8938e67c99234ff3",
       "version_major": 2,
       "version_minor": 0
      },
      "text/plain": [
       "  0%|          | 0/1 [00:00<?, ?it/s]"
      ]
     },
     "metadata": {},
     "output_type": "display_data"
    },
    {
     "name": "stdout",
     "output_type": "stream",
     "text": [
      "random_state:3 - alpha:0.03 - bagging_size:1 - i:0\n",
      "r_20:0.2313846379398114, r_50:0.3706467642753824\n"
     ]
    },
    {
     "data": {
      "application/vnd.jupyter.widget-view+json": {
       "model_id": "2dfc99bd9b4a449ba486d50eb9cbe197",
       "version_major": 2,
       "version_minor": 0
      },
      "text/plain": [
       "  0%|          | 0/5 [00:00<?, ?it/s]"
      ]
     },
     "metadata": {},
     "output_type": "display_data"
    },
    {
     "name": "stdout",
     "output_type": "stream",
     "text": [
      "random_state:3 - alpha:0.03 - bagging_size:5 - i:0\n",
      "random_state:3 - alpha:0.03 - bagging_size:5 - i:1\n",
      "random_state:3 - alpha:0.03 - bagging_size:5 - i:2\n",
      "random_state:3 - alpha:0.03 - bagging_size:5 - i:3\n",
      "random_state:3 - alpha:0.03 - bagging_size:5 - i:4\n",
      "r_20:0.23158828774983353, r_50:0.3709308051220742\n"
     ]
    },
    {
     "data": {
      "application/vnd.jupyter.widget-view+json": {
       "model_id": "7a77073dec89449dbb411667d980e374",
       "version_major": 2,
       "version_minor": 0
      },
      "text/plain": [
       "  0%|          | 0/10 [00:00<?, ?it/s]"
      ]
     },
     "metadata": {},
     "output_type": "display_data"
    },
    {
     "name": "stdout",
     "output_type": "stream",
     "text": [
      "random_state:3 - alpha:0.03 - bagging_size:10 - i:0\n",
      "random_state:3 - alpha:0.03 - bagging_size:10 - i:1\n",
      "random_state:3 - alpha:0.03 - bagging_size:10 - i:2\n",
      "random_state:3 - alpha:0.03 - bagging_size:10 - i:3\n",
      "random_state:3 - alpha:0.03 - bagging_size:10 - i:4\n",
      "random_state:3 - alpha:0.03 - bagging_size:10 - i:5\n",
      "random_state:3 - alpha:0.03 - bagging_size:10 - i:6\n",
      "random_state:3 - alpha:0.03 - bagging_size:10 - i:7\n",
      "random_state:3 - alpha:0.03 - bagging_size:10 - i:8\n",
      "random_state:3 - alpha:0.03 - bagging_size:10 - i:9\n",
      "r_20:0.23156128614889954, r_50:0.37094344242654026\n"
     ]
    },
    {
     "data": {
      "application/vnd.jupyter.widget-view+json": {
       "model_id": "499b73d5eb8e46acb1c62de8bd875199",
       "version_major": 2,
       "version_minor": 0
      },
      "text/plain": [
       "  0%|          | 0/3 [00:00<?, ?it/s]"
      ]
     },
     "metadata": {},
     "output_type": "display_data"
    },
    {
     "data": {
      "application/vnd.jupyter.widget-view+json": {
       "model_id": "5fc07e61dcf742cba34fa088159fdfe3",
       "version_major": 2,
       "version_minor": 0
      },
      "text/plain": [
       "  0%|          | 0/1 [00:00<?, ?it/s]"
      ]
     },
     "metadata": {},
     "output_type": "display_data"
    },
    {
     "name": "stdout",
     "output_type": "stream",
     "text": [
      "random_state:3 - alpha:0.06 - bagging_size:1 - i:0\n",
      "r_20:0.2313393017335701, r_50:0.370131736720867\n"
     ]
    },
    {
     "data": {
      "application/vnd.jupyter.widget-view+json": {
       "model_id": "670440ea3dce4a93b4b27cefb02821e0",
       "version_major": 2,
       "version_minor": 0
      },
      "text/plain": [
       "  0%|          | 0/5 [00:00<?, ?it/s]"
      ]
     },
     "metadata": {},
     "output_type": "display_data"
    },
    {
     "name": "stdout",
     "output_type": "stream",
     "text": [
      "random_state:3 - alpha:0.06 - bagging_size:5 - i:0\n",
      "random_state:3 - alpha:0.06 - bagging_size:5 - i:1\n",
      "random_state:3 - alpha:0.06 - bagging_size:5 - i:2\n",
      "random_state:3 - alpha:0.06 - bagging_size:5 - i:3\n",
      "random_state:3 - alpha:0.06 - bagging_size:5 - i:4\n",
      "r_20:0.2314744332035507, r_50:0.37083912060450064\n"
     ]
    },
    {
     "data": {
      "application/vnd.jupyter.widget-view+json": {
       "model_id": "bda56429750b43059b5ce1f9c8b8f5ee",
       "version_major": 2,
       "version_minor": 0
      },
      "text/plain": [
       "  0%|          | 0/10 [00:00<?, ?it/s]"
      ]
     },
     "metadata": {},
     "output_type": "display_data"
    },
    {
     "name": "stdout",
     "output_type": "stream",
     "text": [
      "random_state:3 - alpha:0.06 - bagging_size:10 - i:0\n",
      "random_state:3 - alpha:0.06 - bagging_size:10 - i:1\n",
      "random_state:3 - alpha:0.06 - bagging_size:10 - i:2\n",
      "random_state:3 - alpha:0.06 - bagging_size:10 - i:3\n",
      "random_state:3 - alpha:0.06 - bagging_size:10 - i:4\n",
      "random_state:3 - alpha:0.06 - bagging_size:10 - i:5\n",
      "random_state:3 - alpha:0.06 - bagging_size:10 - i:6\n",
      "random_state:3 - alpha:0.06 - bagging_size:10 - i:7\n",
      "random_state:3 - alpha:0.06 - bagging_size:10 - i:8\n",
      "random_state:3 - alpha:0.06 - bagging_size:10 - i:9\n",
      "r_20:0.23125272481907896, r_50:0.37093487809198034\n"
     ]
    },
    {
     "data": {
      "application/vnd.jupyter.widget-view+json": {
       "model_id": "28cdc4667b6c4ecb9426e5b7e8b388a1",
       "version_major": 2,
       "version_minor": 0
      },
      "text/plain": [
       "  0%|          | 0/3 [00:00<?, ?it/s]"
      ]
     },
     "metadata": {},
     "output_type": "display_data"
    },
    {
     "data": {
      "application/vnd.jupyter.widget-view+json": {
       "model_id": "f896be19428d469facb633a9970b71f8",
       "version_major": 2,
       "version_minor": 0
      },
      "text/plain": [
       "  0%|          | 0/1 [00:00<?, ?it/s]"
      ]
     },
     "metadata": {},
     "output_type": "display_data"
    },
    {
     "name": "stdout",
     "output_type": "stream",
     "text": [
      "random_state:3 - alpha:0.09 - bagging_size:1 - i:0\n",
      "r_20:0.23117586018893435, r_50:0.3700349827073238\n"
     ]
    },
    {
     "data": {
      "application/vnd.jupyter.widget-view+json": {
       "model_id": "67e5b4233a6d4f85b72d95b8cd1da198",
       "version_major": 2,
       "version_minor": 0
      },
      "text/plain": [
       "  0%|          | 0/5 [00:00<?, ?it/s]"
      ]
     },
     "metadata": {},
     "output_type": "display_data"
    },
    {
     "name": "stdout",
     "output_type": "stream",
     "text": [
      "random_state:3 - alpha:0.09 - bagging_size:5 - i:0\n",
      "random_state:3 - alpha:0.09 - bagging_size:5 - i:1\n",
      "random_state:3 - alpha:0.09 - bagging_size:5 - i:2\n",
      "random_state:3 - alpha:0.09 - bagging_size:5 - i:3\n",
      "random_state:3 - alpha:0.09 - bagging_size:5 - i:4\n",
      "r_20:0.2312619833210933, r_50:0.37090173885559785\n"
     ]
    },
    {
     "data": {
      "application/vnd.jupyter.widget-view+json": {
       "model_id": "3948d184ba9b45068a5e6719bc691b85",
       "version_major": 2,
       "version_minor": 0
      },
      "text/plain": [
       "  0%|          | 0/10 [00:00<?, ?it/s]"
      ]
     },
     "metadata": {},
     "output_type": "display_data"
    },
    {
     "name": "stdout",
     "output_type": "stream",
     "text": [
      "random_state:3 - alpha:0.09 - bagging_size:10 - i:0\n",
      "random_state:3 - alpha:0.09 - bagging_size:10 - i:1\n",
      "random_state:3 - alpha:0.09 - bagging_size:10 - i:2\n",
      "random_state:3 - alpha:0.09 - bagging_size:10 - i:3\n",
      "random_state:3 - alpha:0.09 - bagging_size:10 - i:4\n",
      "random_state:3 - alpha:0.09 - bagging_size:10 - i:5\n",
      "random_state:3 - alpha:0.09 - bagging_size:10 - i:6\n",
      "random_state:3 - alpha:0.09 - bagging_size:10 - i:7\n",
      "random_state:3 - alpha:0.09 - bagging_size:10 - i:8\n",
      "random_state:3 - alpha:0.09 - bagging_size:10 - i:9\n",
      "r_20:0.23124363559388883, r_50:0.3709882067819037\n"
     ]
    },
    {
     "data": {
      "application/vnd.jupyter.widget-view+json": {
       "model_id": "63256fe4b01447f3b8913c81e7b9d962",
       "version_major": 2,
       "version_minor": 0
      },
      "text/plain": [
       "  0%|          | 0/4 [00:00<?, ?it/s]"
      ]
     },
     "metadata": {},
     "output_type": "display_data"
    },
    {
     "data": {
      "application/vnd.jupyter.widget-view+json": {
       "model_id": "ab9f967b73a7494a90e99b41459768d8",
       "version_major": 2,
       "version_minor": 0
      },
      "text/plain": [
       "  0%|          | 0/3 [00:00<?, ?it/s]"
      ]
     },
     "metadata": {},
     "output_type": "display_data"
    },
    {
     "data": {
      "application/vnd.jupyter.widget-view+json": {
       "model_id": "476924366d6849a4882a77b45d765e56",
       "version_major": 2,
       "version_minor": 0
      },
      "text/plain": [
       "  0%|          | 0/1 [00:00<?, ?it/s]"
      ]
     },
     "metadata": {},
     "output_type": "display_data"
    },
    {
     "name": "stdout",
     "output_type": "stream",
     "text": [
      "random_state:4 - alpha:0.0 - bagging_size:1 - i:0\n",
      "r_20:0.23177472276262198, r_50:0.37100706000462846\n"
     ]
    },
    {
     "data": {
      "application/vnd.jupyter.widget-view+json": {
       "model_id": "680ba90a93c9444b91498e2f83f34b0f",
       "version_major": 2,
       "version_minor": 0
      },
      "text/plain": [
       "  0%|          | 0/5 [00:00<?, ?it/s]"
      ]
     },
     "metadata": {},
     "output_type": "display_data"
    },
    {
     "name": "stdout",
     "output_type": "stream",
     "text": [
      "random_state:4 - alpha:0.0 - bagging_size:5 - i:0\n",
      "random_state:4 - alpha:0.0 - bagging_size:5 - i:1\n",
      "random_state:4 - alpha:0.0 - bagging_size:5 - i:2\n",
      "random_state:4 - alpha:0.0 - bagging_size:5 - i:3\n",
      "random_state:4 - alpha:0.0 - bagging_size:5 - i:4\n",
      "r_20:0.23177472276262198, r_50:0.37100706000462846\n"
     ]
    },
    {
     "data": {
      "application/vnd.jupyter.widget-view+json": {
       "model_id": "00d0564a3f4543debd0294c7cb7f3770",
       "version_major": 2,
       "version_minor": 0
      },
      "text/plain": [
       "  0%|          | 0/10 [00:00<?, ?it/s]"
      ]
     },
     "metadata": {},
     "output_type": "display_data"
    },
    {
     "name": "stdout",
     "output_type": "stream",
     "text": [
      "random_state:4 - alpha:0.0 - bagging_size:10 - i:0\n",
      "random_state:4 - alpha:0.0 - bagging_size:10 - i:1\n",
      "random_state:4 - alpha:0.0 - bagging_size:10 - i:2\n",
      "random_state:4 - alpha:0.0 - bagging_size:10 - i:3\n",
      "random_state:4 - alpha:0.0 - bagging_size:10 - i:4\n",
      "random_state:4 - alpha:0.0 - bagging_size:10 - i:5\n",
      "random_state:4 - alpha:0.0 - bagging_size:10 - i:6\n",
      "random_state:4 - alpha:0.0 - bagging_size:10 - i:7\n",
      "random_state:4 - alpha:0.0 - bagging_size:10 - i:8\n",
      "random_state:4 - alpha:0.0 - bagging_size:10 - i:9\n",
      "r_20:0.23177472276262198, r_50:0.37100706000462846\n"
     ]
    },
    {
     "data": {
      "application/vnd.jupyter.widget-view+json": {
       "model_id": "65c204cf42cc4ff49cb8c9b09ddd03a6",
       "version_major": 2,
       "version_minor": 0
      },
      "text/plain": [
       "  0%|          | 0/3 [00:00<?, ?it/s]"
      ]
     },
     "metadata": {},
     "output_type": "display_data"
    },
    {
     "data": {
      "application/vnd.jupyter.widget-view+json": {
       "model_id": "180280d43d7a4854a19461f9d7101ad6",
       "version_major": 2,
       "version_minor": 0
      },
      "text/plain": [
       "  0%|          | 0/1 [00:00<?, ?it/s]"
      ]
     },
     "metadata": {},
     "output_type": "display_data"
    },
    {
     "name": "stdout",
     "output_type": "stream",
     "text": [
      "random_state:4 - alpha:0.03 - bagging_size:1 - i:0\n",
      "r_20:0.2311602762677328, r_50:0.37078601440198117\n"
     ]
    },
    {
     "data": {
      "application/vnd.jupyter.widget-view+json": {
       "model_id": "a1ffc065b3db4c0cbc2d8dd1a41dcda8",
       "version_major": 2,
       "version_minor": 0
      },
      "text/plain": [
       "  0%|          | 0/5 [00:00<?, ?it/s]"
      ]
     },
     "metadata": {},
     "output_type": "display_data"
    },
    {
     "name": "stdout",
     "output_type": "stream",
     "text": [
      "random_state:4 - alpha:0.03 - bagging_size:5 - i:0\n",
      "random_state:4 - alpha:0.03 - bagging_size:5 - i:1\n",
      "random_state:4 - alpha:0.03 - bagging_size:5 - i:2\n",
      "random_state:4 - alpha:0.03 - bagging_size:5 - i:3\n",
      "random_state:4 - alpha:0.03 - bagging_size:5 - i:4\n"
     ]
    }
   ],
   "source": [
    "i_size = train_df.sid.nunique()\n",
    "\n",
    "ii = 0\n",
    "for random_state in tqdm(range(0,5)):\n",
    "    for alpha in tqdm(np.arange(0,0.1,0.03)):\n",
    "        for bagging_size in tqdm([1,5,10]):\n",
    "            final_b = torch.zeros((i_size,i_size))\n",
    "\n",
    "            for i in tqdm(range(bagging_size)):\n",
    "                print(f'random_state:{random_state} - alpha:{alpha} - bagging_size:{bagging_size} - i:{i}')\n",
    "                train_df_copy = train_df.copy()\n",
    "                \n",
    "                inner_random = random_state * 10 + i\n",
    "                train_df_copy = train_df_copy.sample(frac = 1-alpha, replace=False, random_state=inner_random)\n",
    "\n",
    "                te_implicit = TorchEASE(train_df_copy, user_col=\"uid\", item_col=\"sid\")\n",
    "                te_implicit.fit()\n",
    "                final_b += te_implicit.B\n",
    "\n",
    "            final_b /= bagging_size\n",
    "            te_implicit.B = final_b\n",
    "\n",
    "            r_20 = evaluate(te_implicit, test_df_tr, test_df_te, k=20)\n",
    "            r_50 = evaluate(te_implicit, test_df_tr, test_df_te, k=50)\n",
    "            print(f'r_20:{r_20}, r_50:{r_50}')\n",
    "\n",
    "            all_results_df.loc[ii] = [alpha, bagging_size, r_20, r_50, random_state]\n",
    "            all_results_df.to_csv('all_results.csv', index=False)\n",
    "            ii += 1"
   ]
  }
 ],
 "metadata": {
  "kernelspec": {
   "display_name": "python37",
   "language": "python",
   "name": "python37"
  },
  "language_info": {
   "codemirror_mode": {
    "name": "ipython",
    "version": 3
   },
   "file_extension": ".py",
   "mimetype": "text/x-python",
   "name": "python",
   "nbconvert_exporter": "python",
   "pygments_lexer": "ipython3",
   "version": "3.7.9"
  }
 },
 "nbformat": 4,
 "nbformat_minor": 4
}